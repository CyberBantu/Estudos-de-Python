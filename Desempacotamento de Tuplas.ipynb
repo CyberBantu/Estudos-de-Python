{
 "cells": [
  {
   "cell_type": "markdown",
   "id": "af59bea2",
   "metadata": {},
   "source": [
    "## Desempacotamento de Tuplas - Exercicios "
   ]
  },
  {
   "cell_type": "code",
   "execution_count": 1,
   "id": "b5922efa",
   "metadata": {},
   "outputs": [
    {
     "name": "stdout",
     "output_type": "stream",
     "text": [
      "iphone teve 558147 vendas em 2019, 951642 vendas em 2020, crescimento de 58.7%\n",
      "tv teve 405252 vendas em 2019, 787604 vendas em 2020, crescimento de 51.5%\n",
      "máquina de café teve 718654 vendas em 2019, 867660 vendas em 2020, crescimento de 82.8%\n",
      "notebook dell teve 422760 vendas em 2019, 694913 vendas em 2020, crescimento de 60.8%\n",
      "notebook hp teve 154753 vendas em 2019, 539704 vendas em 2020, crescimento de 28.7%\n",
      "microsoft surface teve 438508 vendas em 2019, 667179 vendas em 2020, crescimento de 65.7%\n",
      "webcam teve 237467 vendas em 2019, 295633 vendas em 2020, crescimento de 80.3%\n",
      "caixa de som teve 489705 vendas em 2019, 725316 vendas em 2020, crescimento de 67.5%\n",
      "microfone teve 328311 vendas em 2019, 644622 vendas em 2020, crescimento de 50.9%\n",
      "câmera canon teve 591120 vendas em 2019, 994303 vendas em 2020, crescimento de 59.5%\n"
     ]
    }
   ],
   "source": [
    "# Comparativo de Vendas de produtos de um ano para outro\n",
    "\n",
    "vendas_produtos = [('iphone', 558147, 951642), ('galaxy', 712350, 244295), ('ipad', 573823, 26964), ('tv', 405252, 787604), ('máquina de café', 718654, 867660), ('kindle', 531580, 78830), ('geladeira', 973139, 710331), ('adega', 892292, 646016), ('notebook dell', 422760, 694913), ('notebook hp', 154753, 539704), ('notebook asus', 887061, 324831), ('microsoft surface', 438508, 667179), ('webcam', 237467, 295633), ('caixa de som', 489705, 725316), ('microfone', 328311, 644622), ('câmera canon', 591120, 994303)]\n",
    "\n",
    "for produto, vendas2019, vendas2020 in vendas_produtos:\n",
    "  if vendas2020 > vendas2019:\n",
    "    print('{} teve {} vendas em 2019, {} vendas em 2020, crescimento de {:.1%}'.format(produto, vendas2019, vendas2020, vendas2019/vendas2020))"
   ]
  }
 ],
 "metadata": {
  "kernelspec": {
   "display_name": "Python 3 (ipykernel)",
   "language": "python",
   "name": "python3"
  },
  "language_info": {
   "codemirror_mode": {
    "name": "ipython",
    "version": 3
   },
   "file_extension": ".py",
   "mimetype": "text/x-python",
   "name": "python",
   "nbconvert_exporter": "python",
   "pygments_lexer": "ipython3",
   "version": "3.9.12"
  }
 },
 "nbformat": 4,
 "nbformat_minor": 5
}
