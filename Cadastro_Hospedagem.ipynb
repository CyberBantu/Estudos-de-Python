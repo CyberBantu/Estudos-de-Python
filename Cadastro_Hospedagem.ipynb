{
  "nbformat": 4,
  "nbformat_minor": 0,
  "metadata": {
    "colab": {
      "name": "Cadastro_Hospedagem.ipynb",
      "provenance": [],
      "collapsed_sections": [],
      "authorship_tag": "ABX9TyMNErBJgmdCoiW6K3aqCZoB"
    },
    "kernelspec": {
      "name": "python3",
      "display_name": "Python 3"
    },
    "language_info": {
      "name": "python"
    }
  },
  "cells": [
    {
      "cell_type": "code",
      "execution_count": 32,
      "metadata": {
        "colab": {
          "base_uri": "https://localhost:8080/"
        },
        "id": "LRZOFYKlKvOS",
        "outputId": "4c7e2af0-ac85-4d40-cfb0-0e86cf82482c"
      },
      "outputs": [
        {
          "output_type": "stream",
          "name": "stdout",
          "text": [
            "***** Olá bem Vindo ao Hotel Bantu, vou te solicitar algumas Informações *****\n",
            "Quantas pessoas são para a Hospetagem?3\n",
            "Qual é o seu nome?\n",
            "Christian\n",
            "Olá Christian!\n",
            "Qual a sua idade?\n",
            "18\n",
            "Você tem a idade permitida\n",
            "\n",
            "Qual a cidade que voce nasceu?\n",
            "Duque de Caxias\n",
            "Qual é o seu nome?\n",
            "Pamela\n",
            "Olá Pamela!\n",
            "Qual a sua idade?\n",
            "19\n",
            "Você tem a idade permitida\n",
            "\n",
            "Qual a cidade que voce nasceu?\n",
            "Duque de Caxias\n",
            "Qual é o seu nome?\n",
            "Enzo\n",
            "Olá Enzo!\n",
            "Qual a sua idade?\n",
            "20\n",
            "Você tem a idade permitida\n",
            "\n",
            "Qual a cidade que voce nasceu?\n",
            "Wolao\n",
            "['Christian', 'Pamela', 'Enzo']\n"
          ]
        }
      ],
      "source": [
        "# Cadastro De grupo\n",
        "\n",
        "print('*'*5,'Olá bem Vindo ao Hotel Bantu, vou te solicitar algumas Informações','*'*5)\n",
        "\n",
        "rep = int(input('Quantas pessoas são para a Hospetagem?'))\n",
        "i = 0\n",
        "grupo = []\n",
        "while i < rep:\n",
        "  i += 1\n",
        "  nome = input('Qual é o seu nome?\\n')\n",
        "  if nome == '':\n",
        "    print('Nome Invalido') \n",
        "    break\n",
        "  else:\n",
        "    print('Olá {}!'.format(nome))\n",
        "  # coletando idade\n",
        "  idade = int(input('Qual a sua idade?\\n'))\n",
        "  if idade < 18:\n",
        "\n",
        "    print('{}, você não tem idade o suficiênte para fazer o cadastro.\\n'.format(nome))\n",
        "\n",
        "    break\n",
        "  else:\n",
        "\n",
        "    print('Você tem a idade permitida\\n')\n",
        "  # Coletando Cidade\n",
        "\n",
        "  cidade_nascimento = input('Qual a cidade que voce nasceu?\\n')\n",
        "\n",
        "  if cidade_nascimento == '':\n",
        "    print('Sua Cidade é Invalidade.\\n') \n",
        "    break\n",
        "\n",
        "  grupo.append(nome)\n",
        "  \n",
        "\n",
        "print(grupo)\n",
        "\n"
      ]
    },
    {
      "cell_type": "code",
      "source": [
        "nome= 's'\n",
        "//////\n",
        "len(nome)"
      ],
      "metadata": {
        "colab": {
          "base_uri": "https://localhost:8080/"
        },
        "id": "E37THGckK6hI",
        "outputId": "5d5666a7-32a0-4ed8-9016-a7cc7e91d1a2"
      },
      "execution_count": null,
      "outputs": [
        {
          "output_type": "execute_result",
          "data": {
            "text/plain": [
              "8"
            ]
          },
          "metadata": {},
          "execution_count": 4
        }
      ]
    }
  ]
}